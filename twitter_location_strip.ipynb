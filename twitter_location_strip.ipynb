{
 "cells": [
  {
   "cell_type": "code",
   "execution_count": 1,
   "metadata": {},
   "outputs": [],
   "source": [
    "import json\n",
    "import numpy as np\n",
    "import pandas as pd\n",
    "import matplotlib.pyplot as plt\n",
    "import seaborn as sns\n",
    "from vaderSentiment.vaderSentiment import SentimentIntensityAnalyzer\n",
    "import time\n",
    "import re\n",
    "import us\n",
    "from city_to_state import city_to_state_dict"
   ]
  },
  {
   "cell_type": "code",
   "execution_count": 2,
   "metadata": {},
   "outputs": [],
   "source": [
    "with open('tweets.json') as f:\n",
    "    data = json.load(f)"
   ]
  },
  {
   "cell_type": "code",
   "execution_count": 3,
   "metadata": {},
   "outputs": [
    {
     "data": {
      "text/plain": [
       "list"
      ]
     },
     "execution_count": 3,
     "metadata": {},
     "output_type": "execute_result"
    }
   ],
   "source": [
    "type(data)"
   ]
  },
  {
   "cell_type": "code",
   "execution_count": 4,
   "metadata": {},
   "outputs": [
    {
     "name": "stdout",
     "output_type": "stream",
     "text": [
      "16100\n"
     ]
    }
   ],
   "source": [
    "total = 0\n",
    "stripped_data = []\n",
    "for i in range(len(data)):\n",
    "    if data[i] != None:\n",
    "        total += len(data[i])\n",
    "        for j in range(len(data[i])):\n",
    "            batch = {}\n",
    "            batch['created'] = data[i][j].get(\"created_at\", np.nan)\n",
    "            batch['id'] = data[i][j].get(\"id\", np.nan)\n",
    "            batch['text'] = data[i][j].get(\"text\", np.nan)\n",
    "            batch['location'] = data[i][j]['user'].get(\"location\", np.nan)\n",
    "            if data[i][j]['place'] != None:\n",
    "                batch['city'] = data[i][j]['place'].get(\"full_name\", np.nan)\n",
    "                batch['country_code'] = data[i][j]['place'].get(\"country_code\", np.nan)\n",
    "                batch['country'] = data[i][j]['place'].get(\"country\", np.nan)\n",
    "            stripped_data.append(batch)\n",
    "print(total)"
   ]
  },
  {
   "cell_type": "code",
   "execution_count": 5,
   "metadata": {},
   "outputs": [],
   "source": [
    "df = pd.DataFrame(stripped_data)"
   ]
  },
  {
   "cell_type": "code",
   "execution_count": 6,
   "metadata": {},
   "outputs": [
    {
     "data": {
      "text/html": [
       "<div>\n",
       "<style scoped>\n",
       "    .dataframe tbody tr th:only-of-type {\n",
       "        vertical-align: middle;\n",
       "    }\n",
       "\n",
       "    .dataframe tbody tr th {\n",
       "        vertical-align: top;\n",
       "    }\n",
       "\n",
       "    .dataframe thead th {\n",
       "        text-align: right;\n",
       "    }\n",
       "</style>\n",
       "<table border=\"1\" class=\"dataframe\">\n",
       "  <thead>\n",
       "    <tr style=\"text-align: right;\">\n",
       "      <th></th>\n",
       "      <th>created</th>\n",
       "      <th>id</th>\n",
       "      <th>text</th>\n",
       "      <th>location</th>\n",
       "      <th>city</th>\n",
       "      <th>country_code</th>\n",
       "      <th>country</th>\n",
       "    </tr>\n",
       "  </thead>\n",
       "  <tbody>\n",
       "    <tr>\n",
       "      <td>0</td>\n",
       "      <td>Tue Mar 17 23:59:59 +0000 2020</td>\n",
       "      <td>1240065376433647616</td>\n",
       "      <td>Hi Twitter, Hi #COVIDChat! ICYMI check out @ma...</td>\n",
       "      <td>New York, New York</td>\n",
       "      <td>NaN</td>\n",
       "      <td>NaN</td>\n",
       "      <td>NaN</td>\n",
       "    </tr>\n",
       "    <tr>\n",
       "      <td>1</td>\n",
       "      <td>Tue Mar 17 23:59:53 +0000 2020</td>\n",
       "      <td>1240065348705058819</td>\n",
       "      <td>While necessary measures are being taken to ke...</td>\n",
       "      <td>Syracuse, NY</td>\n",
       "      <td>NaN</td>\n",
       "      <td>NaN</td>\n",
       "      <td>NaN</td>\n",
       "    </tr>\n",
       "    <tr>\n",
       "      <td>2</td>\n",
       "      <td>Tue Mar 17 23:59:51 +0000 2020</td>\n",
       "      <td>1240065343915208706</td>\n",
       "      <td>The latest numbers in Ontario @Canada  Note: t...</td>\n",
       "      <td>Cleveland, OH</td>\n",
       "      <td>NaN</td>\n",
       "      <td>NaN</td>\n",
       "      <td>NaN</td>\n",
       "    </tr>\n",
       "    <tr>\n",
       "      <td>3</td>\n",
       "      <td>Tue Mar 17 23:59:51 +0000 2020</td>\n",
       "      <td>1240065342212317185</td>\n",
       "      <td>That’s why we all have to act like we have it ...</td>\n",
       "      <td>New York, USA</td>\n",
       "      <td>NaN</td>\n",
       "      <td>NaN</td>\n",
       "      <td>NaN</td>\n",
       "    </tr>\n",
       "    <tr>\n",
       "      <td>4</td>\n",
       "      <td>Tue Mar 17 23:59:51 +0000 2020</td>\n",
       "      <td>1240065340773711873</td>\n",
       "      <td>Please stay home! The phrase #SocialDistancing...</td>\n",
       "      <td>New York, USA</td>\n",
       "      <td>NaN</td>\n",
       "      <td>NaN</td>\n",
       "      <td>NaN</td>\n",
       "    </tr>\n",
       "  </tbody>\n",
       "</table>\n",
       "</div>"
      ],
      "text/plain": [
       "                          created                   id  \\\n",
       "0  Tue Mar 17 23:59:59 +0000 2020  1240065376433647616   \n",
       "1  Tue Mar 17 23:59:53 +0000 2020  1240065348705058819   \n",
       "2  Tue Mar 17 23:59:51 +0000 2020  1240065343915208706   \n",
       "3  Tue Mar 17 23:59:51 +0000 2020  1240065342212317185   \n",
       "4  Tue Mar 17 23:59:51 +0000 2020  1240065340773711873   \n",
       "\n",
       "                                                text            location city  \\\n",
       "0  Hi Twitter, Hi #COVIDChat! ICYMI check out @ma...  New York, New York  NaN   \n",
       "1  While necessary measures are being taken to ke...        Syracuse, NY  NaN   \n",
       "2  The latest numbers in Ontario @Canada  Note: t...       Cleveland, OH  NaN   \n",
       "3  That’s why we all have to act like we have it ...       New York, USA  NaN   \n",
       "4  Please stay home! The phrase #SocialDistancing...       New York, USA  NaN   \n",
       "\n",
       "  country_code country  \n",
       "0          NaN     NaN  \n",
       "1          NaN     NaN  \n",
       "2          NaN     NaN  \n",
       "3          NaN     NaN  \n",
       "4          NaN     NaN  "
      ]
     },
     "execution_count": 6,
     "metadata": {},
     "output_type": "execute_result"
    }
   ],
   "source": [
    "df.head()"
   ]
  },
  {
   "cell_type": "code",
   "execution_count": 7,
   "metadata": {},
   "outputs": [
    {
     "data": {
      "text/plain": [
       "7770                                   \n",
       "14222                             Texas\n",
       "11988                     United States\n",
       "15288                 Oklahoma City, OK\n",
       "12426    Istanbul / Fort Pierce / Dubai\n",
       "8472                         Peoria, AZ\n",
       "13503                    Torfaen, Wales\n",
       "3459                          Tampa, FL\n",
       "2191                      United States\n",
       "12862              36.0609°N, 95.7975°W\n",
       "4429                Tasmania, Australia\n",
       "14085                  Orlando, Florida\n",
       "2145                                   \n",
       "3948                          Omaha, NE\n",
       "10155                    Tennessee, USA\n",
       "332                                  AZ\n",
       "11436                        Austin, TX\n",
       "2692                    Worthington, MA\n",
       "1881                                   \n",
       "3942                     Washington, DC\n",
       "Name: location, dtype: object"
      ]
     },
     "execution_count": 7,
     "metadata": {},
     "output_type": "execute_result"
    }
   ],
   "source": [
    "df.location.sample(20)"
   ]
  },
  {
   "cell_type": "code",
   "execution_count": 8,
   "metadata": {},
   "outputs": [
    {
     "data": {
      "text/plain": [
       "1667"
      ]
     },
     "execution_count": 8,
     "metadata": {},
     "output_type": "execute_result"
    }
   ],
   "source": [
    "len(df[(df.city.notna())])"
   ]
  },
  {
   "cell_type": "code",
   "execution_count": 9,
   "metadata": {},
   "outputs": [
    {
     "data": {
      "text/plain": [
       "13196"
      ]
     },
     "execution_count": 9,
     "metadata": {},
     "output_type": "execute_result"
    }
   ],
   "source": [
    "len(df[(df.location.str.contains('\\w+', regex=True))])"
   ]
  },
  {
   "cell_type": "code",
   "execution_count": 10,
   "metadata": {},
   "outputs": [],
   "source": [
    "two_word_states = [\n",
    "    'new york',\n",
    "    'new hampshire',\n",
    "    'new jersey',\n",
    "    'new mexico',\n",
    "    'north dakota',\n",
    "    'south dakota',\n",
    "    'north carolina',\n",
    "    'south carolina',\n",
    "    'rhode island',\n",
    "    'west virginia'\n",
    "]"
   ]
  },
  {
   "cell_type": "code",
   "execution_count": 11,
   "metadata": {},
   "outputs": [],
   "source": [
    "def get_state_abbr(x):\n",
    "    if re.match('({})'.format(\"|\".join(two_word_states)), x.lower()):\n",
    "        tokens = [re.match('({})'.format(\"|\".join(two_word_states)), x.lower()).group(0)]\n",
    "    elif re.match('({})'.format(\"|\".join(city_to_state_dict.keys()).lower()), x.lower()):\n",
    "        k = re.match('({})'.format(\"|\".join(city_to_state_dict.keys()).lower()), x.lower()).group(0)\n",
    "        tokens = [city_to_state_dict.get(k.title(), np.nan)]\n",
    "    else:\n",
    "        tokens = [j for j in re.split(\"\\s|,\", x) if j not in ['in', 'la', 'me', 'oh', 'or']]\n",
    "    for i in tokens:\n",
    "        if re.match('\\w+', str(i)):\n",
    "            if us.states.lookup(str(i)):\n",
    "                return us.states.lookup(str(i)).abbr"
   ]
  },
  {
   "cell_type": "code",
   "execution_count": 12,
   "metadata": {},
   "outputs": [],
   "source": [
    "split_df = lambda x: (x[(x.city.notna())], x[x.city.isna()])"
   ]
  },
  {
   "cell_type": "code",
   "execution_count": 13,
   "metadata": {},
   "outputs": [],
   "source": [
    "df_city, df_location = split_df(df)"
   ]
  },
  {
   "cell_type": "code",
   "execution_count": 14,
   "metadata": {},
   "outputs": [
    {
     "data": {
      "text/html": [
       "<div>\n",
       "<style scoped>\n",
       "    .dataframe tbody tr th:only-of-type {\n",
       "        vertical-align: middle;\n",
       "    }\n",
       "\n",
       "    .dataframe tbody tr th {\n",
       "        vertical-align: top;\n",
       "    }\n",
       "\n",
       "    .dataframe thead th {\n",
       "        text-align: right;\n",
       "    }\n",
       "</style>\n",
       "<table border=\"1\" class=\"dataframe\">\n",
       "  <thead>\n",
       "    <tr style=\"text-align: right;\">\n",
       "      <th></th>\n",
       "      <th>created</th>\n",
       "      <th>id</th>\n",
       "      <th>text</th>\n",
       "      <th>location</th>\n",
       "      <th>city</th>\n",
       "      <th>country_code</th>\n",
       "      <th>country</th>\n",
       "    </tr>\n",
       "  </thead>\n",
       "  <tbody>\n",
       "    <tr>\n",
       "      <td>10</td>\n",
       "      <td>Tue Mar 17 23:59:43 +0000 2020</td>\n",
       "      <td>1240065310356635653</td>\n",
       "      <td>#SocialDistancing is necessary. But so is stay...</td>\n",
       "      <td>San Antonio, TX</td>\n",
       "      <td>San Antonio, TX</td>\n",
       "      <td>US</td>\n",
       "      <td>United States</td>\n",
       "    </tr>\n",
       "    <tr>\n",
       "      <td>20</td>\n",
       "      <td>Tue Mar 17 23:59:30 +0000 2020</td>\n",
       "      <td>1240065252169039872</td>\n",
       "      <td>Don’t be those people in the line! Stay home. ...</td>\n",
       "      <td>Halifax, Nova Scotia</td>\n",
       "      <td>Halifax, Nova Scotia</td>\n",
       "      <td>CA</td>\n",
       "      <td>Canada</td>\n",
       "    </tr>\n",
       "    <tr>\n",
       "      <td>32</td>\n",
       "      <td>Tue Mar 17 23:59:00 +0000 2020</td>\n",
       "      <td>1240065130156580864</td>\n",
       "      <td>Naps are an important part of #SocialDistancin...</td>\n",
       "      <td>Colorado Springs, CO</td>\n",
       "      <td>Colorado, USA</td>\n",
       "      <td>US</td>\n",
       "      <td>United States</td>\n",
       "    </tr>\n",
       "    <tr>\n",
       "      <td>36</td>\n",
       "      <td>Tue Mar 17 23:58:55 +0000 2020</td>\n",
       "      <td>1240065108518322180</td>\n",
       "      <td>Just cause it’s true ☺️ 🤲🏼🧘🏽❤️🙏🏼🌷 #thanksnatur...</td>\n",
       "      <td></td>\n",
       "      <td>Penticton, British Columbia</td>\n",
       "      <td>CA</td>\n",
       "      <td>Canada</td>\n",
       "    </tr>\n",
       "    <tr>\n",
       "      <td>37</td>\n",
       "      <td>Tue Mar 17 23:58:53 +0000 2020</td>\n",
       "      <td>1240065097336336385</td>\n",
       "      <td>Day one of #COVID19 quarantine...This is going...</td>\n",
       "      <td>Pittsburgh, PA</td>\n",
       "      <td>Whitehall, PA</td>\n",
       "      <td>US</td>\n",
       "      <td>United States</td>\n",
       "    </tr>\n",
       "  </tbody>\n",
       "</table>\n",
       "</div>"
      ],
      "text/plain": [
       "                           created                   id  \\\n",
       "10  Tue Mar 17 23:59:43 +0000 2020  1240065310356635653   \n",
       "20  Tue Mar 17 23:59:30 +0000 2020  1240065252169039872   \n",
       "32  Tue Mar 17 23:59:00 +0000 2020  1240065130156580864   \n",
       "36  Tue Mar 17 23:58:55 +0000 2020  1240065108518322180   \n",
       "37  Tue Mar 17 23:58:53 +0000 2020  1240065097336336385   \n",
       "\n",
       "                                                 text              location  \\\n",
       "10  #SocialDistancing is necessary. But so is stay...       San Antonio, TX   \n",
       "20  Don’t be those people in the line! Stay home. ...  Halifax, Nova Scotia   \n",
       "32  Naps are an important part of #SocialDistancin...  Colorado Springs, CO   \n",
       "36  Just cause it’s true ☺️ 🤲🏼🧘🏽❤️🙏🏼🌷 #thanksnatur...                         \n",
       "37  Day one of #COVID19 quarantine...This is going...        Pittsburgh, PA   \n",
       "\n",
       "                           city country_code        country  \n",
       "10              San Antonio, TX           US  United States  \n",
       "20         Halifax, Nova Scotia           CA         Canada  \n",
       "32                Colorado, USA           US  United States  \n",
       "36  Penticton, British Columbia           CA         Canada  \n",
       "37                Whitehall, PA           US  United States  "
      ]
     },
     "execution_count": 14,
     "metadata": {},
     "output_type": "execute_result"
    }
   ],
   "source": [
    "df_city.head()"
   ]
  },
  {
   "cell_type": "code",
   "execution_count": 15,
   "metadata": {},
   "outputs": [
    {
     "data": {
      "text/html": [
       "<div>\n",
       "<style scoped>\n",
       "    .dataframe tbody tr th:only-of-type {\n",
       "        vertical-align: middle;\n",
       "    }\n",
       "\n",
       "    .dataframe tbody tr th {\n",
       "        vertical-align: top;\n",
       "    }\n",
       "\n",
       "    .dataframe thead th {\n",
       "        text-align: right;\n",
       "    }\n",
       "</style>\n",
       "<table border=\"1\" class=\"dataframe\">\n",
       "  <thead>\n",
       "    <tr style=\"text-align: right;\">\n",
       "      <th></th>\n",
       "      <th>created</th>\n",
       "      <th>id</th>\n",
       "      <th>text</th>\n",
       "      <th>location</th>\n",
       "      <th>city</th>\n",
       "      <th>country_code</th>\n",
       "      <th>country</th>\n",
       "    </tr>\n",
       "  </thead>\n",
       "  <tbody>\n",
       "    <tr>\n",
       "      <td>0</td>\n",
       "      <td>Tue Mar 17 23:59:59 +0000 2020</td>\n",
       "      <td>1240065376433647616</td>\n",
       "      <td>Hi Twitter, Hi #COVIDChat! ICYMI check out @ma...</td>\n",
       "      <td>New York, New York</td>\n",
       "      <td>NaN</td>\n",
       "      <td>NaN</td>\n",
       "      <td>NaN</td>\n",
       "    </tr>\n",
       "    <tr>\n",
       "      <td>1</td>\n",
       "      <td>Tue Mar 17 23:59:53 +0000 2020</td>\n",
       "      <td>1240065348705058819</td>\n",
       "      <td>While necessary measures are being taken to ke...</td>\n",
       "      <td>Syracuse, NY</td>\n",
       "      <td>NaN</td>\n",
       "      <td>NaN</td>\n",
       "      <td>NaN</td>\n",
       "    </tr>\n",
       "    <tr>\n",
       "      <td>2</td>\n",
       "      <td>Tue Mar 17 23:59:51 +0000 2020</td>\n",
       "      <td>1240065343915208706</td>\n",
       "      <td>The latest numbers in Ontario @Canada  Note: t...</td>\n",
       "      <td>Cleveland, OH</td>\n",
       "      <td>NaN</td>\n",
       "      <td>NaN</td>\n",
       "      <td>NaN</td>\n",
       "    </tr>\n",
       "    <tr>\n",
       "      <td>3</td>\n",
       "      <td>Tue Mar 17 23:59:51 +0000 2020</td>\n",
       "      <td>1240065342212317185</td>\n",
       "      <td>That’s why we all have to act like we have it ...</td>\n",
       "      <td>New York, USA</td>\n",
       "      <td>NaN</td>\n",
       "      <td>NaN</td>\n",
       "      <td>NaN</td>\n",
       "    </tr>\n",
       "    <tr>\n",
       "      <td>4</td>\n",
       "      <td>Tue Mar 17 23:59:51 +0000 2020</td>\n",
       "      <td>1240065340773711873</td>\n",
       "      <td>Please stay home! The phrase #SocialDistancing...</td>\n",
       "      <td>New York, USA</td>\n",
       "      <td>NaN</td>\n",
       "      <td>NaN</td>\n",
       "      <td>NaN</td>\n",
       "    </tr>\n",
       "  </tbody>\n",
       "</table>\n",
       "</div>"
      ],
      "text/plain": [
       "                          created                   id  \\\n",
       "0  Tue Mar 17 23:59:59 +0000 2020  1240065376433647616   \n",
       "1  Tue Mar 17 23:59:53 +0000 2020  1240065348705058819   \n",
       "2  Tue Mar 17 23:59:51 +0000 2020  1240065343915208706   \n",
       "3  Tue Mar 17 23:59:51 +0000 2020  1240065342212317185   \n",
       "4  Tue Mar 17 23:59:51 +0000 2020  1240065340773711873   \n",
       "\n",
       "                                                text            location city  \\\n",
       "0  Hi Twitter, Hi #COVIDChat! ICYMI check out @ma...  New York, New York  NaN   \n",
       "1  While necessary measures are being taken to ke...        Syracuse, NY  NaN   \n",
       "2  The latest numbers in Ontario @Canada  Note: t...       Cleveland, OH  NaN   \n",
       "3  That’s why we all have to act like we have it ...       New York, USA  NaN   \n",
       "4  Please stay home! The phrase #SocialDistancing...       New York, USA  NaN   \n",
       "\n",
       "  country_code country  \n",
       "0          NaN     NaN  \n",
       "1          NaN     NaN  \n",
       "2          NaN     NaN  \n",
       "3          NaN     NaN  \n",
       "4          NaN     NaN  "
      ]
     },
     "execution_count": 15,
     "metadata": {},
     "output_type": "execute_result"
    }
   ],
   "source": [
    "df_location.head()"
   ]
  },
  {
   "cell_type": "code",
   "execution_count": 16,
   "metadata": {},
   "outputs": [],
   "source": [
    "def apply_state(df, col):\n",
    "    df['us_state'] = df[col].apply(get_state_abbr)\n",
    "    return df"
   ]
  },
  {
   "cell_type": "code",
   "execution_count": 17,
   "metadata": {},
   "outputs": [
    {
     "name": "stderr",
     "output_type": "stream",
     "text": [
      "C:\\Users\\krishanth\\AppData\\Local\\Continuum\\anaconda3\\lib\\site-packages\\ipykernel_launcher.py:2: SettingWithCopyWarning: \n",
      "A value is trying to be set on a copy of a slice from a DataFrame.\n",
      "Try using .loc[row_indexer,col_indexer] = value instead\n",
      "\n",
      "See the caveats in the documentation: http://pandas.pydata.org/pandas-docs/stable/user_guide/indexing.html#returning-a-view-versus-a-copy\n",
      "  \n"
     ]
    }
   ],
   "source": [
    "df_updated = pd.concat(\n",
    "    [\n",
    "        apply_state(df_city, 'city'),\n",
    "        apply_state(df_location, 'location')\n",
    "    ]\n",
    ")"
   ]
  },
  {
   "cell_type": "code",
   "execution_count": 18,
   "metadata": {},
   "outputs": [
    {
     "name": "stdout",
     "output_type": "stream",
     "text": [
      "<class 'pandas.core.frame.DataFrame'>\n",
      "Int64Index: 16100 entries, 10 to 16099\n",
      "Data columns (total 8 columns):\n",
      "created         16100 non-null object\n",
      "id              16100 non-null int64\n",
      "text            16100 non-null object\n",
      "location        16100 non-null object\n",
      "city            1667 non-null object\n",
      "country_code    1667 non-null object\n",
      "country         1667 non-null object\n",
      "us_state        8511 non-null object\n",
      "dtypes: int64(1), object(7)\n",
      "memory usage: 1.1+ MB\n"
     ]
    }
   ],
   "source": [
    "df_updated.info()"
   ]
  },
  {
   "cell_type": "code",
   "execution_count": 19,
   "metadata": {},
   "outputs": [],
   "source": [
    "df_us = df_updated[(df_updated.us_state.notna())]\n",
    "df_us.reset_index(inplace=True, drop=True)"
   ]
  },
  {
   "cell_type": "code",
   "execution_count": 20,
   "metadata": {},
   "outputs": [
    {
     "data": {
      "text/plain": [
       "8511"
      ]
     },
     "execution_count": 20,
     "metadata": {},
     "output_type": "execute_result"
    }
   ],
   "source": [
    "len(df_us)"
   ]
  },
  {
   "cell_type": "code",
   "execution_count": 42,
   "metadata": {},
   "outputs": [
    {
     "data": {
      "text/html": [
       "<div>\n",
       "<style scoped>\n",
       "    .dataframe tbody tr th:only-of-type {\n",
       "        vertical-align: middle;\n",
       "    }\n",
       "\n",
       "    .dataframe tbody tr th {\n",
       "        vertical-align: top;\n",
       "    }\n",
       "\n",
       "    .dataframe thead th {\n",
       "        text-align: right;\n",
       "    }\n",
       "</style>\n",
       "<table border=\"1\" class=\"dataframe\">\n",
       "  <thead>\n",
       "    <tr style=\"text-align: right;\">\n",
       "      <th></th>\n",
       "      <th>location</th>\n",
       "      <th>city</th>\n",
       "      <th>us_state</th>\n",
       "    </tr>\n",
       "  </thead>\n",
       "  <tbody>\n",
       "    <tr>\n",
       "      <td>2517</td>\n",
       "      <td>Wimberley, TX</td>\n",
       "      <td>NaN</td>\n",
       "      <td>TX</td>\n",
       "    </tr>\n",
       "    <tr>\n",
       "      <td>3713</td>\n",
       "      <td>Guthrie, OK</td>\n",
       "      <td>NaN</td>\n",
       "      <td>OK</td>\n",
       "    </tr>\n",
       "    <tr>\n",
       "      <td>1392</td>\n",
       "      <td>Arkansas, USA</td>\n",
       "      <td>NaN</td>\n",
       "      <td>AR</td>\n",
       "    </tr>\n",
       "    <tr>\n",
       "      <td>4481</td>\n",
       "      <td>Ontario, Canada</td>\n",
       "      <td>NaN</td>\n",
       "      <td>CA</td>\n",
       "    </tr>\n",
       "    <tr>\n",
       "      <td>3151</td>\n",
       "      <td>New Mexico, USA</td>\n",
       "      <td>NaN</td>\n",
       "      <td>NM</td>\n",
       "    </tr>\n",
       "    <tr>\n",
       "      <td>3286</td>\n",
       "      <td>Los Angeles, CA</td>\n",
       "      <td>NaN</td>\n",
       "      <td>CA</td>\n",
       "    </tr>\n",
       "    <tr>\n",
       "      <td>4964</td>\n",
       "      <td>Hawaii, USA</td>\n",
       "      <td>NaN</td>\n",
       "      <td>HI</td>\n",
       "    </tr>\n",
       "    <tr>\n",
       "      <td>8119</td>\n",
       "      <td>Brighton UK</td>\n",
       "      <td>NaN</td>\n",
       "      <td>CO</td>\n",
       "    </tr>\n",
       "    <tr>\n",
       "      <td>114</td>\n",
       "      <td>Yosemite National Park</td>\n",
       "      <td>California, USA</td>\n",
       "      <td>CA</td>\n",
       "    </tr>\n",
       "    <tr>\n",
       "      <td>3682</td>\n",
       "      <td>Atlanta</td>\n",
       "      <td>NaN</td>\n",
       "      <td>GA</td>\n",
       "    </tr>\n",
       "    <tr>\n",
       "      <td>6624</td>\n",
       "      <td>Arcadia, California</td>\n",
       "      <td>NaN</td>\n",
       "      <td>CA</td>\n",
       "    </tr>\n",
       "    <tr>\n",
       "      <td>2310</td>\n",
       "      <td>New Jersey</td>\n",
       "      <td>NaN</td>\n",
       "      <td>NJ</td>\n",
       "    </tr>\n",
       "    <tr>\n",
       "      <td>2293</td>\n",
       "      <td>Metro Detroit, MI</td>\n",
       "      <td>NaN</td>\n",
       "      <td>MI</td>\n",
       "    </tr>\n",
       "    <tr>\n",
       "      <td>1354</td>\n",
       "      <td>Washington, DC</td>\n",
       "      <td>NaN</td>\n",
       "      <td>IL</td>\n",
       "    </tr>\n",
       "    <tr>\n",
       "      <td>1435</td>\n",
       "      <td>Baltimore, MD</td>\n",
       "      <td>NaN</td>\n",
       "      <td>MD</td>\n",
       "    </tr>\n",
       "  </tbody>\n",
       "</table>\n",
       "</div>"
      ],
      "text/plain": [
       "                    location             city us_state\n",
       "2517           Wimberley, TX              NaN       TX\n",
       "3713             Guthrie, OK              NaN       OK\n",
       "1392           Arkansas, USA              NaN       AR\n",
       "4481         Ontario, Canada              NaN       CA\n",
       "3151         New Mexico, USA              NaN       NM\n",
       "3286         Los Angeles, CA              NaN       CA\n",
       "4964             Hawaii, USA              NaN       HI\n",
       "8119             Brighton UK              NaN       CO\n",
       "114   Yosemite National Park  California, USA       CA\n",
       "3682                 Atlanta              NaN       GA\n",
       "6624     Arcadia, California              NaN       CA\n",
       "2310              New Jersey              NaN       NJ\n",
       "2293       Metro Detroit, MI              NaN       MI\n",
       "1354          Washington, DC              NaN       IL\n",
       "1435           Baltimore, MD              NaN       MD"
      ]
     },
     "execution_count": 42,
     "metadata": {},
     "output_type": "execute_result"
    }
   ],
   "source": [
    "df_us[['location', 'city', 'us_state']].sample(15)"
   ]
  },
  {
   "cell_type": "code",
   "execution_count": null,
   "metadata": {},
   "outputs": [],
   "source": []
  }
 ],
 "metadata": {
  "kernelspec": {
   "display_name": "Python 3",
   "language": "python",
   "name": "python3"
  },
  "language_info": {
   "codemirror_mode": {
    "name": "ipython",
    "version": 3
   },
   "file_extension": ".py",
   "mimetype": "text/x-python",
   "name": "python",
   "nbconvert_exporter": "python",
   "pygments_lexer": "ipython3",
   "version": "3.7.4"
  }
 },
 "nbformat": 4,
 "nbformat_minor": 2
}
